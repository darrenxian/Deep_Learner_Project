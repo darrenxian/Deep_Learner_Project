{
 "cells": [
  {
   "cell_type": "code",
   "execution_count": 20,
   "metadata": {
    "tags": []
   },
   "outputs": [],
   "source": [
    "import face_recognition\n",
    "import os\n",
    "import numpy as np\n",
    "import pandas as pd\n",
    "\n",
    "import sklearn.metrics\n",
    "\n",
    "import matplotlib.pyplot as plt"
   ]
  },
  {
   "cell_type": "code",
   "execution_count": 2,
   "metadata": {},
   "outputs": [],
   "source": [
    "def inverted_norm(column): # Higher = 0 lower = 1\n",
    "    Data_aux = np.array(General_Data[[column]]).flatten()\n",
    "    Data_aux = np.reshape(Data_aux,[-1,1]).flatten()\n",
    "\n",
    "    norm_data =1- ( Data_aux - min(Data_aux)) / ( max(Data_aux) - min(Data_aux) )\n",
    "    return (norm_data)\n"
   ]
  },
  {
   "cell_type": "code",
   "execution_count": 3,
   "metadata": {},
   "outputs": [],
   "source": [
    "def face_distance(img1,img2):\n",
    "    img1 = face_recognition.load_image_file(img1)\n",
    "    img1_face_encoding = face_recognition.face_encodings(img1,known_face_locations=[(0, 224, 224, 0)])[0]\n",
    "    known_encodings = [\n",
    "        img1_face_encoding\n",
    "        ]\n",
    "\n",
    "    image_to_test = face_recognition.load_image_file(img2)\n",
    "    image_to_test_encoding = face_recognition.face_encodings(image_to_test,known_face_locations=[(0, 224, 224, 0)])[0]\n",
    "\n",
    "    face_distances = face_recognition.face_distance(known_encodings, image_to_test_encoding)\n",
    "    return(face_distances[0])"
   ]
  },
  {
   "cell_type": "markdown",
   "metadata": {},
   "source": [
    "### Read database:"
   ]
  },
  {
   "cell_type": "code",
   "execution_count": 4,
   "metadata": {},
   "outputs": [],
   "source": [
    "list_dir = os.listdir('C:/Users/Public/Documents/PNAS2018Images/SeparatedImages/')"
   ]
  },
  {
   "cell_type": "code",
   "execution_count": 6,
   "metadata": {},
   "outputs": [],
   "source": [
    "list_dir = list_dir[1:]"
   ]
  },
  {
   "cell_type": "code",
   "execution_count": 9,
   "metadata": {},
   "outputs": [],
   "source": [
    "model_result=[]\n",
    "for i in range(0,40,2):\n",
    "    model_result.append(face_distance('C:/Users/Public/Documents/PNAS2018Images/CroppedDatabase/' + list_dir[i],'C:/Users/Public/Documents/PNAS2018Images/CroppedDatabase/' + list_dir[i+1]))"
   ]
  },
  {
   "cell_type": "code",
   "execution_count": 10,
   "metadata": {},
   "outputs": [
    {
     "name": "stdout",
     "output_type": "stream",
     "text": [
      "0.7420782329251321\n",
      "0.4724015841952316\n",
      "0.7419155361978731\n",
      "0.6546913825716839\n",
      "0.6053629488125128\n",
      "0.551599156717194\n",
      "0.6544334272340916\n",
      "0.5578512097307496\n",
      "0.4909899791041852\n",
      "0.5474700190069205\n",
      "0.6620889180893269\n",
      "0.807499086051853\n",
      "0.5148197511122794\n",
      "0.4376128030707776\n",
      "0.5079762037764843\n",
      "0.5861882909586739\n",
      "0.6296747534789818\n",
      "0.5501150180037336\n",
      "0.49562154414320825\n",
      "0.4985043372654423\n"
     ]
    }
   ],
   "source": [
    "# Show the scores\n",
    "for i in range(len(model_result)):\n",
    "    print(model_result[i])"
   ]
  },
  {
   "cell_type": "code",
   "execution_count": 11,
   "metadata": {},
   "outputs": [],
   "source": [
    "ground_truth = []\n",
    "\n",
    "for i in range(8):\n",
    "    ground_truth.append('different') \n",
    "\n",
    "for i in range(12):\n",
    "    ground_truth.append('same')\n",
    "    \n"
   ]
  },
  {
   "cell_type": "code",
   "execution_count": 18,
   "metadata": {},
   "outputs": [],
   "source": [
    "fpr,tpr,thresholds = sklearn.metrics.roc_curve(ground_truth,np.array(model_result),pos_label='different')"
   ]
  },
  {
   "cell_type": "code",
   "execution_count": 21,
   "metadata": {},
   "outputs": [
    {
     "data": {
      "text/plain": [
       "[<matplotlib.lines.Line2D at 0x18dd7d92cd0>]"
      ]
     },
     "execution_count": 21,
     "metadata": {},
     "output_type": "execute_result"
    },
    {
     "data": {
      "image/png": "[encoded data removed]",
      "text/plain": [
       "<Figure size 432x288 with 1 Axes>"
      ]
     },
     "metadata": {
      "needs_background": "light"
     },
     "output_type": "display_data"
    }
   ],
   "source": [
    "plt.plot(fpr,tpr)"
   ]
  },
  {
   "cell_type": "code",
   "execution_count": 22,
   "metadata": {},
   "outputs": [
    {
     "data": {
      "text/plain": [
       "0.7083333333333334"
      ]
     },
     "execution_count": 22,
     "metadata": {},
     "output_type": "execute_result"
    }
   ],
   "source": [
    "sklearn.metrics.auc(fpr,tpr)"
   ]
  },
  {
   "cell_type": "code",
   "execution_count": null,
   "metadata": {},
   "outputs": [],
   "source": []
  }
 ],
 "metadata": {
  "kernelspec": {
   "display_name": "Python 3",
   "language": "python",
   "name": "python3"
  },
  "language_info": {
   "codemirror_mode": {
    "name": "ipython",
    "version": 3
   },
   "file_extension": ".py",
   "mimetype": "text/x-python",
   "name": "python",
   "nbconvert_exporter": "python",
   "pygments_lexer": "ipython3",
   "version": "3.8.8"
  }
 },
 "nbformat": 4,
 "nbformat_minor": 4
}
