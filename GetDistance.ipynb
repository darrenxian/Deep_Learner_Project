{
 "cells": [
  {
   "cell_type": "markdown",
   "metadata": {},
   "source": [
    "#### Import the required packages"
   ]
  },
  {
   "cell_type": "code",
   "execution_count": 1,
   "metadata": {},
   "outputs": [],
   "source": [
    "import os\n",
    "import numpy as np\n",
    "import pandas as pd\n",
    "from scipy.spatial import distance\n",
    "from sklearn.metrics.pairwise import cosine_similarity"
   ]
  },
  {
   "cell_type": "markdown",
   "metadata": {},
   "source": [
    "#### Define a function that will create the dataframe structure, renaming columns and setting the index"
   ]
  },
  {
   "cell_type": "code",
   "execution_count": 2,
   "metadata": {},
   "outputs": [],
   "source": [
    "def StructureFolder(df, list_dir, index_name=\"image_names\"):\n",
    "    df = pd.DataFrame(df)\n",
    "\n",
    "    for i in range(len(df)-1):\n",
    "        df = df.rename(columns = {i:list_dir[i]})\n",
    "        \n",
    "    df[index_name] = list_dir\n",
    "    df.set_index(index_name, inplace=True)\n",
    "    return df"
   ]
  },
  {
   "cell_type": "markdown",
   "metadata": {},
   "source": [
    "#### Define a function to loop through and calculate the Euclidean and Cosine distances for the entire array"
   ]
  },
  {
   "cell_type": "code",
   "execution_count": 3,
   "metadata": {},
   "outputs": [],
   "source": [
    "def AllAgainstAllSimilarities(df):\n",
    "    euclidean_distance = []\n",
    "    cosine_distance = []\n",
    "\n",
    "    df_array = np.array(df)\n",
    "\n",
    "    for i in range(len(df_array)):\n",
    "        for j in range(len(df_array)):\n",
    "            euclidean_distance.append(distance.euclidean(df_array[i, :], df_array[j, :]))\n",
    "            cosine_distance.append(1 - distance.cosine(df_array[i, :], df_array[j, :]))\n",
    "    return (euclidean_distance, cosine_distance)"
   ]
  },
  {
   "cell_type": "markdown",
   "metadata": {},
   "source": [
    "#### Define a function to loop through our dataframe of images to compare them, calculating Euclidean and Cosine distance for each"
   ]
  },
  {
   "cell_type": "code",
   "execution_count": 4,
   "metadata": {},
   "outputs": [],
   "source": [
    "def ListOfSimilarities(df, list_dir, list_to_compare):\n",
    "    euclidean_distance = []\n",
    "    cosine_distance = []\n",
    "\n",
    "    df_array = np.array(df)\n",
    "\n",
    "    for i in range(len(list_to_compare)):\n",
    "        position1 = np.isin(list_dir, list_to_compare.image1[i])\n",
    "        position2 = np.isin(list_dir, list_to_compare.image2[i])\n",
    "        \n",
    "        for i in range(len(position1)):\n",
    "            if position1[i] == True:\n",
    "                get_position1 = i\n",
    "        \n",
    "        for i in range(len(position2)):\n",
    "            if position2[i] == True:\n",
    "                get_position2 = i\n",
    "        \n",
    "        euclidean_distance.append(distance.euclidean(df_array[get_position1, :], df_array[get_position2, :]))\n",
    "        cosine_distance.append(1 - distance.cosine(df_array[get_position1, :], df_array[get_position2, :]))\n",
    "        \n",
    "    return (euclidean_distance, cosine_distance)"
   ]
  },
  {
   "cell_type": "markdown",
   "metadata": {},
   "source": [
    "#### Define the path to our CSV file, a path to our images, and the output file names"
   ]
  },
  {
   "cell_type": "code",
   "execution_count": 89,
   "metadata": {},
   "outputs": [],
   "source": [
    "# The path to the directory of the feature vector loaded in as file_name\n",
    "path = \"C:/Users/Public/Documents/Deep_Learner_DIN_Project/Algorithms/Feature_Vector_Extraction/Average_Images/PassportDatabase/\"\n",
    "# The path to the images\n",
    "path_of_images = \"C:/Users/Public/Documents/Image_Databases/DIN_Image/PassportDatabase/average_images_cropped/\"\n",
    "\n",
    "# This is our input feature vector file\n",
    "file_name = \"Face_Recognition_ResNet34_Feature_Vector.csv\"\n",
    "save_file = \"Face_Recognition_ResNet34\"\n",
    "\n",
    "# These two files are our output files\n",
    "name_to_save_euclidean = save_file+\"_Euclidean_Distance.csv\"\n",
    "name_to_save_cosine = save_file+\"_Cosine_Distance.csv\""
   ]
  },
  {
   "cell_type": "code",
   "execution_count": 90,
   "metadata": {},
   "outputs": [],
   "source": [
    "# Create a dataframe which will contain two columns - image1 and image 2\n",
    "#list_to_compare = pd.DataFrame()\n",
    "#image1 = [\"S1_a.png\", \"S2_a.png\", \"S3_a.png\"]\n",
    "#image2 = [\"S1_b.png\", \"S2_b.png\", \"S3_b.png\"]\n",
    "\n",
    "# Set the the first column to the first list of images, and the second column to the second list of images\n",
    "#list_to_compare[\"image1\"] = image1\n",
    "#list_to_compare[\"image2\"] = image2\n",
    "\n",
    "# Confirm the dataframe structure\n",
    "#list_to_compare"
   ]
  },
  {
   "cell_type": "markdown",
   "metadata": {},
   "source": [
    "#### Load the previously defined CSV file"
   ]
  },
  {
   "cell_type": "code",
   "execution_count": 91,
   "metadata": {},
   "outputs": [],
   "source": [
    "# Note that we specify header=None as we do not have a header row with column names\n",
    "df = pd.read_csv(path + file_name, header=None)"
   ]
  },
  {
   "cell_type": "code",
   "execution_count": 92,
   "metadata": {},
   "outputs": [
    {
     "data": {
      "text/plain": [
       "1600"
      ]
     },
     "execution_count": 92,
     "metadata": {},
     "output_type": "execute_result"
    }
   ],
   "source": [
    "# Create a list of all the images in the provided directory\n",
    "list_dir = os.listdir(path_of_images)\n",
    "list_dir = list_dir[0:1600]\n",
    "len(list_dir)"
   ]
  },
  {
   "cell_type": "code",
   "execution_count": 93,
   "metadata": {},
   "outputs": [],
   "source": [
    "euclidean_distance, cosine_distance = AllAgainstAllSimilarities(df)"
   ]
  },
  {
   "cell_type": "code",
   "execution_count": 94,
   "metadata": {},
   "outputs": [],
   "source": [
    "#euclidean_distance_list, cosine_distance_list = ListOfSimilarities(df, list_dir, list_to_compare)"
   ]
  },
  {
   "cell_type": "code",
   "execution_count": 95,
   "metadata": {},
   "outputs": [],
   "source": [
    "# Reshape our numpy arrays\n",
    "euclidean_distance = np.reshape(euclidean_distance, (len(df), -1))\n",
    "cosine_distance = np.reshape(cosine_distance, (len(df), -1))"
   ]
  },
  {
   "cell_type": "code",
   "execution_count": 96,
   "metadata": {},
   "outputs": [
    {
     "name": "stdout",
     "output_type": "stream",
     "text": [
      "(1600, 1600)\n",
      "(1600, 1600)\n"
     ]
    }
   ],
   "source": [
    "# Confirm the shape of our euclidean and cosine distance arrays\n",
    "print(euclidean_distance.shape)\n",
    "print(cosine_distance.shape)"
   ]
  },
  {
   "cell_type": "markdown",
   "metadata": {},
   "source": [
    "#### Inspect one element of both the euclidean and cosine distances, ensuring they make sense"
   ]
  },
  {
   "cell_type": "code",
   "execution_count": 97,
   "metadata": {},
   "outputs": [
    {
     "data": {
      "text/plain": [
       "array([0.12633435, 0.17820121, 0.15521694, ..., 0.75456654, 0.78180779,\n",
       "       0.78012947])"
      ]
     },
     "execution_count": 97,
     "metadata": {},
     "output_type": "execute_result"
    }
   ],
   "source": [
    "euclidean_distance[5]"
   ]
  },
  {
   "cell_type": "code",
   "execution_count": 98,
   "metadata": {},
   "outputs": [
    {
     "data": {
      "text/plain": [
       "array([0.9969839 , 0.99401428, 0.9953771 , ..., 0.88701835, 0.87741511,\n",
       "       0.87957998])"
      ]
     },
     "execution_count": 98,
     "metadata": {},
     "output_type": "execute_result"
    }
   ],
   "source": [
    "# We can verify that any 0 values are transformed into a 1, as cos(0) = 1\n",
    "cosine_distance[5]"
   ]
  },
  {
   "cell_type": "markdown",
   "metadata": {},
   "source": [
    "#### Call our structure function defined above to create a dataframe with the correct structure for both euclidean and cosine distances"
   ]
  },
  {
   "cell_type": "code",
   "execution_count": 99,
   "metadata": {},
   "outputs": [],
   "source": [
    "# Pass in the numpy arrays created previously to our dataframe structure\n",
    "df_euclidean = StructureFolder(euclidean_distance, list_dir)\n",
    "df_cosine = StructureFolder(cosine_distance, list_dir)"
   ]
  },
  {
   "cell_type": "markdown",
   "metadata": {},
   "source": [
    "#### Output our data to a CSV file in the respective directory"
   ]
  },
  {
   "cell_type": "code",
   "execution_count": 100,
   "metadata": {},
   "outputs": [],
   "source": [
    "df_euclidean.to_csv(path + \"/\" + name_to_save_euclidean)\n",
    "df_cosine.to_csv(path + \"/\" + name_to_save_cosine)"
   ]
  },
  {
   "cell_type": "code",
   "execution_count": null,
   "metadata": {},
   "outputs": [],
   "source": []
  },
  {
   "cell_type": "code",
   "execution_count": null,
   "metadata": {},
   "outputs": [],
   "source": []
  }
 ],
 "metadata": {
  "kernelspec": {
   "display_name": "Python 3",
   "language": "python",
   "name": "python3"
  },
  "language_info": {
   "codemirror_mode": {
    "name": "ipython",
    "version": 3
   },
   "file_extension": ".py",
   "mimetype": "text/x-python",
   "name": "python",
   "nbconvert_exporter": "python",
   "pygments_lexer": "ipython3",
   "version": "3.8.10"
  }
 },
 "nbformat": 4,
 "nbformat_minor": 4
}
