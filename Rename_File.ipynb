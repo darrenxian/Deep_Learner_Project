{
 "cells": [
  {
   "cell_type": "code",
   "execution_count": 1,
   "metadata": {},
   "outputs": [],
   "source": [
    "import os"
   ]
  },
  {
   "cell_type": "code",
   "execution_count": 5,
   "metadata": {},
   "outputs": [],
   "source": [
    "# list_dir = os.listdir('C:/Users/Public/Documents/Deep_Learner_DIN_Project/Algorithms/Feature_Vector_Extraction/MorphDatabase/1_2/CosineDistances')"
   ]
  },
  {
   "cell_type": "code",
   "execution_count": 8,
   "metadata": {},
   "outputs": [],
   "source": [
    "# list_dir = [file.replace('Feature_Vector','Cosine_Distance') for file in list_dir]"
   ]
  },
  {
   "cell_type": "code",
   "execution_count": 42,
   "metadata": {},
   "outputs": [],
   "source": [
    "path = 'C:/Users/Public/Documents/Deep_Learner_DIN_Project/Algorithms/Feature_Vector_Extraction/MorphDatabase/2_1/EuclideanDistances/'\n",
    "for filename in os.listdir(path):\n",
    "    newname = filename.replace('Feature_vector.csv','Euclidean_Distance.csv')\n",
    "    os.rename(path + filename,path + newname)\n",
    "      "
   ]
  },
  {
   "cell_type": "code",
   "execution_count": null,
   "metadata": {},
   "outputs": [],
   "source": []
  },
  {
   "cell_type": "code",
   "execution_count": null,
   "metadata": {},
   "outputs": [],
   "source": []
  }
 ],
 "metadata": {
  "kernelspec": {
   "display_name": "Python 3",
   "language": "python",
   "name": "python3"
  },
  "language_info": {
   "codemirror_mode": {
    "name": "ipython",
    "version": 3
   },
   "file_extension": ".py",
   "mimetype": "text/x-python",
   "name": "python",
   "nbconvert_exporter": "python",
   "pygments_lexer": "ipython3",
   "version": "3.8.10"
  }
 },
 "nbformat": 4,
 "nbformat_minor": 4
}
