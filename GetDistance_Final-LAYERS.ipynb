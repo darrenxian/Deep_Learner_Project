{
 "cells": [
  {
   "cell_type": "code",
   "execution_count": 1,
   "metadata": {},
   "outputs": [],
   "source": [
    "import os\n",
    "import numpy as np\n",
    "import pandas as pd\n",
    "from scipy.spatial import distance\n",
    "from sklearn.metrics.pairwise import cosine_similarity"
   ]
  },
  {
   "cell_type": "markdown",
   "metadata": {},
   "source": [
    "#### Define a function that will create the dataframe structure, renaming columns and setting the index"
   ]
  },
  {
   "cell_type": "code",
   "execution_count": 2,
   "metadata": {},
   "outputs": [],
   "source": [
    "def StructureFolder(df, list_dir, index_name=\"image_names\"):\n",
    "    df = pd.DataFrame(df)\n",
    "\n",
    "    for i in range(len(df)):\n",
    "        df = df.rename(columns = {i:list_dir[i]})\n",
    "        \n",
    "    df[index_name] = list_dir\n",
    "    df.set_index(index_name, inplace=True)\n",
    "    return df"
   ]
  },
  {
   "cell_type": "markdown",
   "metadata": {},
   "source": [
    "#### Define a function to loop through and calculate the Euclidean and Cosine distances for the entire array"
   ]
  },
  {
   "cell_type": "code",
   "execution_count": 3,
   "metadata": {
    "tags": []
   },
   "outputs": [],
   "source": [
    "def AllAgainstAllSimilarities(df):\n",
    "    euclidean_distance = []\n",
    "    cosine_distance = []\n",
    "\n",
    "    df_array = np.array(df)\n",
    "\n",
    "    for i in range(len(df_array)):\n",
    "        for j in range(len(df_array)):\n",
    "            euclidean_distance.append(distance.euclidean(df_array[i, :], df_array[j, :]))\n",
    "            cosine_distance.append(1 - distance.cosine(df_array[i, :], df_array[j, :]))\n",
    "    return (euclidean_distance, cosine_distance)"
   ]
  },
  {
   "cell_type": "markdown",
   "metadata": {},
   "source": [
    "#### Define a function to loop through our dataframe of images to compare them, calculating Euclidean and Cosine distance for each"
   ]
  },
  {
   "cell_type": "code",
   "execution_count": 4,
   "metadata": {},
   "outputs": [],
   "source": [
    "# def ListOfSimilarities(df, list_dir, list_to_compare):\n",
    "#     euclidean_distance = []\n",
    "#     cosine_distance = []\n",
    "\n",
    "#     df_array = np.array(df)\n",
    "\n",
    "#     for i in range(len(list_to_compare)):\n",
    "#         position1 = np.isin(list_dir, list_to_compare.image1[i])\n",
    "#         position2 = np.isin(list_dir, list_to_compare.image2[i])\n",
    "        \n",
    "#         for i in range(len(position1)):\n",
    "#             if position1[i] == True:\n",
    "#                 get_position1 = i\n",
    "        \n",
    "#         for i in range(len(position2)):\n",
    "#             if position2[i] == True:\n",
    "#                 get_position2 = i\n",
    "        \n",
    "#         euclidean_distance.append(distance.euclidean(df_array[get_position1, :], df_array[get_position2, :]))\n",
    "#         cosine_distance.append(1 - distance.cosine(df_array[get_position1, :], df_array[get_position2, :]))\n",
    "        \n",
    "#     return (euclidean_distance, cosine_distance)"
   ]
  },
  {
   "cell_type": "markdown",
   "metadata": {},
   "source": [
    "#### Define the path to our CSV file, a path to our images, and the output file names"
   ]
  },
  {
   "cell_type": "code",
   "execution_count": 18,
   "metadata": {},
   "outputs": [],
   "source": [
    "# The path to the directory of the feature vector loaded in as file_name\n",
    "path = \"C:/Users/Public/Documents/Deep_Learner_DIN_Project/Algorithms/Feature_Vector_Extraction/average_images_layer_test/ResNet50_Feature_Vector/\"\n",
    "# The path to the images\n",
    "path_of_images = 'C:/Users/Public/Documents/Image_Databases/DIN_Image/MorphDatabase/average_images_layer_test/'\n",
    "\n",
    "# This is our input feature vector file\n",
    "file_name = \"conv3_1_1x1_proj.bn_Feature_Vector.csv\"\n",
    "save_file = \"conv3_1_1x1_proj.bn\"\n",
    "\n",
    "# These two files are our output files\n",
    "name_to_save_euclidean = save_file+\"_Euclidean_Distance.csv\"\n",
    "name_to_save_cosine = save_file+\"_Cosine_Distance.csv\""
   ]
  },
  {
   "cell_type": "code",
   "execution_count": 19,
   "metadata": {},
   "outputs": [],
   "source": [
    "# # The path to the directory of the feature vector loaded in as file_name\n",
    "# folder = \"2_1\"\n",
    "\n",
    "# path = \"C:/Users/Public/Documents/Deep_Learner_DIN_Project/Algorithms/Feature_Vector_Extraction/MorphDatabase/\"\n",
    "# # The path to the images\n",
    "# path_of_images = \"C:/Users/Public/Documents/Image_Databases/DIN_Image/MorphDatabase/test_images_cropped/\"+folder+\"/\"\n",
    "\n",
    "# # This is our input feature vector file\n",
    "# file_name = folder+\"_SeNet50_VggFace2_Feature_vector.csv\"\n",
    "# save_file = folder+\"_SeNet50_VggFace2\"\n",
    "\n",
    "# # These two files are our output files\n",
    "# name_to_save_euclidean = save_file+\"_Euclidean_Distance.csv\"\n",
    "# name_to_save_cosine = save_file+\"_Cosine_Distance.csv\""
   ]
  },
  {
   "cell_type": "code",
   "execution_count": 20,
   "metadata": {},
   "outputs": [],
   "source": [
    "# # Create a dataframe which will contain two columns - image1 and image 2\n",
    "# list_to_compare = pd.DataFrame()\n",
    "# image1 = [\"S1_a.png\", \"S2_a.png\", \"S3_a.png\"]\n",
    "# image2 = [\"S1_b.png\", \"S2_b.png\", \"S3_b.png\"]\n",
    "\n",
    "# # Set the the first column to the first list of images, and the second column to the second list of images\n",
    "# list_to_compare[\"image1\"] = image1\n",
    "# list_to_compare[\"image2\"] = image2\n",
    "\n",
    "# # Confirm the dataframe structure\n",
    "# list_to_compare"
   ]
  },
  {
   "cell_type": "markdown",
   "metadata": {},
   "source": [
    "#### Load the previously defined CSV file"
   ]
  },
  {
   "cell_type": "code",
   "execution_count": 21,
   "metadata": {},
   "outputs": [],
   "source": [
    "# Note that we specify header=None as we do not have a header row with column names\n",
    "df = pd.read_csv(path + file_name, header=None)"
   ]
  },
  {
   "cell_type": "code",
   "execution_count": 22,
   "metadata": {},
   "outputs": [
    {
     "data": {
      "text/plain": [
       "200"
      ]
     },
     "execution_count": 22,
     "metadata": {},
     "output_type": "execute_result"
    }
   ],
   "source": [
    "# Create a list of all the images in the provided directory\n",
    "list_dir = os.listdir(path_of_images)\n",
    "\n",
    "#If first image is pynb_checkpoint, remove\n",
    "if list_dir[0] == '.ipynb_checkpoints':\n",
    "    list_dir = list_dir[1:]\n",
    "    \n",
    "    #If first image is pynb_checkpoint, remove\n",
    "if list_dir[-1] == 'Thumbs.db':\n",
    "    list_dir = list_dir[0:-1]\n",
    "    \n",
    "len(list_dir)"
   ]
  },
  {
   "cell_type": "code",
   "execution_count": 23,
   "metadata": {},
   "outputs": [],
   "source": [
    "euclidean_distance, cosine_distance = AllAgainstAllSimilarities(df)"
   ]
  },
  {
   "cell_type": "code",
   "execution_count": 24,
   "metadata": {},
   "outputs": [],
   "source": [
    "# euclidean_distance_list, cosine_distance_list = ListOfSimilarities(df, list_dir, list_to_compare)"
   ]
  },
  {
   "cell_type": "code",
   "execution_count": 25,
   "metadata": {},
   "outputs": [],
   "source": [
    "# Reshape our numpy arrays\n",
    "euclidean_distance = np.reshape(euclidean_distance, (len(df), -1))\n",
    "cosine_distance = np.reshape(cosine_distance, (len(df), -1))"
   ]
  },
  {
   "cell_type": "code",
   "execution_count": 26,
   "metadata": {},
   "outputs": [
    {
     "name": "stdout",
     "output_type": "stream",
     "text": [
      "(200, 200)\n",
      "(200, 200)\n"
     ]
    }
   ],
   "source": [
    "# Confirm the shape of our euclidean and cosine distance arrays\n",
    "print(euclidean_distance.shape)\n",
    "print(cosine_distance.shape)"
   ]
  },
  {
   "cell_type": "markdown",
   "metadata": {},
   "source": [
    "#### Inspect one element of both the euclidean and cosine distances, ensuring they make sense"
   ]
  },
  {
   "cell_type": "code",
   "execution_count": 27,
   "metadata": {},
   "outputs": [
    {
     "data": {
      "text/plain": [
       "array([291.31269135, 253.29406066, 320.23541971, 260.99509611,\n",
       "       306.35038437,   0.        , 262.79677562, 345.02599649,\n",
       "       309.41771371, 358.32051738, 264.99698133, 276.02241565,\n",
       "       430.1957789 , 274.31748248, 273.62028687, 310.36390359,\n",
       "       293.02299203, 262.50770296, 273.88152397, 256.28130965,\n",
       "       305.43015064, 279.0309142 , 316.15563372, 295.20434188,\n",
       "       300.13004514, 276.46675183, 298.90369687, 309.95325696,\n",
       "       350.95261857, 372.83916891, 311.94167125, 252.36455553,\n",
       "       365.30030828, 267.15959811, 243.49141821, 256.24798828,\n",
       "       239.73015218, 282.9595101 , 284.9223054 , 254.94066993,\n",
       "       315.59329044, 286.96367768, 295.61918831, 248.32225198,\n",
       "       319.25010618, 353.67302865, 245.39718368, 271.87542735,\n",
       "       253.58924968, 251.47741022, 474.48127438, 531.92728539,\n",
       "       615.65831702, 571.18940124, 469.1884431 , 449.21923054,\n",
       "       559.33354945, 581.56366392, 494.85342686, 473.58572344,\n",
       "       468.28593353, 580.1375693 , 554.46296529, 532.00205569,\n",
       "       542.21058493, 538.17072276, 562.15816609, 552.81159471,\n",
       "       470.11312254, 532.09084837, 622.80048589, 532.43826445,\n",
       "       545.21665122, 579.83419893, 516.90704642, 520.14186964,\n",
       "       530.14773676, 546.67874515, 535.19458585, 500.49195004,\n",
       "       548.8166252 , 488.78273246, 554.62640203, 512.31733048,\n",
       "       550.1505792 , 518.94929303, 577.06854289, 544.75570686,\n",
       "       479.55573755, 553.42799298, 541.7335094 , 533.27861485,\n",
       "       564.13029666, 518.11297036, 552.52227312, 461.03659738,\n",
       "       537.93717554, 563.32491133, 527.00027634, 456.84565865,\n",
       "       518.83803784, 503.66384681, 493.57900617, 506.90964752,\n",
       "       493.70961138, 550.89282945, 501.05080938, 519.82662295,\n",
       "       454.45013434, 545.53558711, 518.72049051, 526.38754669,\n",
       "       512.6626609 , 544.90984944, 499.56993403, 519.69494379,\n",
       "       509.37361006, 555.93780856, 537.11853202, 509.03801488,\n",
       "       498.39008651, 523.58597954, 500.93926538, 551.93978355,\n",
       "       558.04847235, 519.42973054, 520.44817991, 511.98329772,\n",
       "       534.26437335, 523.00268662, 519.63390738, 512.65141991,\n",
       "       510.88721727, 503.03703851, 512.2312875 , 541.87618816,\n",
       "       500.48322025, 500.5703384 , 523.88498685, 517.47737107,\n",
       "       488.73882213, 538.51610723, 543.42148604, 507.48722799,\n",
       "       506.54838673, 522.4575988 , 506.6326447 , 498.00464868,\n",
       "       520.63688984, 498.30258257, 489.63840507, 486.43700737,\n",
       "       517.84130511, 488.79209175, 510.48315636, 538.65811737,\n",
       "       541.80798904, 558.02790184, 489.45582607, 538.56095352,\n",
       "       513.17158665, 521.24422186, 501.68707009, 487.79568332,\n",
       "       496.87375196, 567.75412571, 521.59437935, 491.49558998,\n",
       "       552.20027207, 579.57940953, 530.38465645, 484.24413734,\n",
       "       515.69414966, 511.8351716 , 493.43103722, 514.17656825,\n",
       "       532.48494404, 507.39084419, 464.10219448, 550.86894151,\n",
       "       556.68428753, 476.459921  , 539.55513955, 542.97344122,\n",
       "       491.8862206 , 528.41520428, 505.75268117, 482.01578823,\n",
       "       509.91781661, 518.39538162, 525.37453613, 475.87151366,\n",
       "       492.28178256, 456.14703675, 499.81645174, 478.93427316,\n",
       "       503.09153777, 481.91544656, 483.26943793, 558.93265837])"
      ]
     },
     "execution_count": 27,
     "metadata": {},
     "output_type": "execute_result"
    }
   ],
   "source": [
    "euclidean_distance[5]"
   ]
  },
  {
   "cell_type": "code",
   "execution_count": 28,
   "metadata": {},
   "outputs": [
    {
     "data": {
      "text/plain": [
       "array([0.90736513, 0.93113156, 0.88854344, 0.9255343 , 0.89805712,\n",
       "       1.        , 0.92470644, 0.872569  , 0.89659438, 0.86006068,\n",
       "       0.92467685, 0.91765077, 0.79883163, 0.91828714, 0.91984056,\n",
       "       0.89621919, 0.90661981, 0.92610244, 0.91853564, 0.92838894,\n",
       "       0.89903011, 0.91537547, 0.89193511, 0.90687148, 0.90189913,\n",
       "       0.91697381, 0.90290527, 0.89647702, 0.86506281, 0.84991882,\n",
       "       0.89413715, 0.93041515, 0.85548344, 0.92245525, 0.93581087,\n",
       "       0.92820681, 0.93787464, 0.9136257 , 0.91207386, 0.92903138,\n",
       "       0.89103868, 0.91078745, 0.90536361, 0.93312094, 0.88846911,\n",
       "       0.8643409 , 0.93456661, 0.92020879, 0.92946123, 0.93087461,\n",
       "       0.75625873, 0.69570385, 0.59028243, 0.65097599, 0.7637222 ,\n",
       "       0.78381037, 0.66120275, 0.63360037, 0.73484102, 0.75947629,\n",
       "       0.76350453, 0.63517575, 0.67361731, 0.69543283, 0.68903962,\n",
       "       0.68984107, 0.65723555, 0.66933088, 0.76312083, 0.69141822,\n",
       "       0.58421972, 0.69352653, 0.68130792, 0.63550155, 0.7115346 ,\n",
       "       0.70822774, 0.69585337, 0.67891708, 0.6910547 , 0.73152802,\n",
       "       0.6765498 , 0.74264105, 0.66445246, 0.71866719, 0.67579944,\n",
       "       0.71176913, 0.64052644, 0.67990511, 0.75313529, 0.66992571,\n",
       "       0.68572877, 0.69156276, 0.65890539, 0.70945735, 0.67152813,\n",
       "       0.76863623, 0.69153508, 0.66249242, 0.69980242, 0.78014247,\n",
       "       0.70728113, 0.71967868, 0.73051796, 0.71967536, 0.73312756,\n",
       "       0.66805089, 0.72356862, 0.70271751, 0.77420381, 0.6743834 ,\n",
       "       0.70443218, 0.69539007, 0.71025472, 0.67199237, 0.72630336,\n",
       "       0.70581527, 0.71515094, 0.65742153, 0.68500274, 0.7151881 ,\n",
       "       0.72894702, 0.69762203, 0.72435953, 0.66467215, 0.65649247,\n",
       "       0.70172506, 0.70291227, 0.71452538, 0.68630167, 0.69871908,\n",
       "       0.7038835 , 0.71170406, 0.71243467, 0.72043644, 0.71233242,\n",
       "       0.67485675, 0.72772359, 0.72523246, 0.6990463 , 0.70341497,\n",
       "       0.73835309, 0.6839664 , 0.67179035, 0.71795811, 0.71710087,\n",
       "       0.69829176, 0.71505199, 0.72776385, 0.70346767, 0.72926307,\n",
       "       0.74185316, 0.74650412, 0.70904161, 0.74295079, 0.71929954,\n",
       "       0.68534562, 0.6861112 , 0.6654286 , 0.74635843, 0.68634808,\n",
       "       0.71622682, 0.70849502, 0.72662701, 0.74352758, 0.7366237 ,\n",
       "       0.65066666, 0.70391262, 0.73835469, 0.67236628, 0.64038016,\n",
       "       0.6980792 , 0.74684321, 0.71315344, 0.72012244, 0.73850475,\n",
       "       0.71500113, 0.69878895, 0.72386127, 0.76655862, 0.67588251,\n",
       "       0.66621852, 0.75532099, 0.69071207, 0.68426861, 0.7410831 ,\n",
       "       0.69901993, 0.7249015 , 0.7498019 , 0.72239676, 0.71161519,\n",
       "       0.7027024 , 0.75679373, 0.74209047, 0.77692367, 0.73416611,\n",
       "       0.75469903, 0.72501697, 0.75069004, 0.75294446, 0.66512845])"
      ]
     },
     "execution_count": 28,
     "metadata": {},
     "output_type": "execute_result"
    }
   ],
   "source": [
    "# We can verify that any 0 values are transformed into a 1, as cos(0) = 1\n",
    "cosine_distance[5]"
   ]
  },
  {
   "cell_type": "markdown",
   "metadata": {},
   "source": [
    "#### Call our structure function defined above to create a dataframe with the correct structure for both euclidean and cosine distances"
   ]
  },
  {
   "cell_type": "code",
   "execution_count": 29,
   "metadata": {},
   "outputs": [],
   "source": [
    "# Pass in the numpy arrays created previously to our dataframe structure\n",
    "df_euclidean = StructureFolder(euclidean_distance, list_dir)\n",
    "df_cosine = StructureFolder(cosine_distance, list_dir)"
   ]
  },
  {
   "cell_type": "markdown",
   "metadata": {},
   "source": [
    "#### Output our data to a CSV file in the respective directory"
   ]
  },
  {
   "cell_type": "code",
   "execution_count": 30,
   "metadata": {},
   "outputs": [],
   "source": [
    "df_euclidean.to_csv(path + \"EuclideanDistances/\" + name_to_save_euclidean)\n",
    "df_cosine.to_csv(path + \"CosineDistances/\" + name_to_save_cosine)"
   ]
  },
  {
   "cell_type": "code",
   "execution_count": null,
   "metadata": {},
   "outputs": [],
   "source": []
  },
  {
   "cell_type": "code",
   "execution_count": null,
   "metadata": {},
   "outputs": [],
   "source": []
  },
  {
   "cell_type": "code",
   "execution_count": null,
   "metadata": {},
   "outputs": [],
   "source": []
  },
  {
   "cell_type": "code",
   "execution_count": null,
   "metadata": {},
   "outputs": [],
   "source": []
  },
  {
   "cell_type": "code",
   "execution_count": null,
   "metadata": {},
   "outputs": [],
   "source": []
  },
  {
   "cell_type": "code",
   "execution_count": null,
   "metadata": {},
   "outputs": [],
   "source": []
  },
  {
   "cell_type": "code",
   "execution_count": null,
   "metadata": {},
   "outputs": [],
   "source": []
  },
  {
   "cell_type": "code",
   "execution_count": null,
   "metadata": {},
   "outputs": [],
   "source": []
  },
  {
   "cell_type": "code",
   "execution_count": null,
   "metadata": {},
   "outputs": [],
   "source": []
  },
  {
   "cell_type": "code",
   "execution_count": null,
   "metadata": {},
   "outputs": [],
   "source": []
  }
 ],
 "metadata": {
  "kernelspec": {
   "display_name": "Python 3",
   "language": "python",
   "name": "python3"
  },
  "language_info": {
   "codemirror_mode": {
    "name": "ipython",
    "version": 3
   },
   "file_extension": ".py",
   "mimetype": "text/x-python",
   "name": "python",
   "nbconvert_exporter": "python",
   "pygments_lexer": "ipython3",
   "version": "3.8.10"
  }
 },
 "nbformat": 4,
 "nbformat_minor": 4
}
