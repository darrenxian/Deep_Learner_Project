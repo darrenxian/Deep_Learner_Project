{
 "cells": [
  {
   "cell_type": "markdown",
   "metadata": {},
   "source": [
    "### Import Libraries"
   ]
  },
  {
   "cell_type": "code",
   "execution_count": 1,
   "metadata": {},
   "outputs": [],
   "source": [
    "import torch\n",
    "import torch.nn as nn\n",
    "import torchvision.models as models\n",
    "import numpy as np\n",
    "from torch.autograd import Variable\n",
    "from torchvision import datasets, transforms\n",
    "import torch.nn.functional as F\n",
    "import torch.nn as nn\n",
    "\n",
    "import torchvision.utils as vutils\n",
    "from io import open\n",
    "import os\n",
    "from PIL import Image\n",
    "import sys\n",
    "\n",
    "import models.resnet as ResNet\n",
    "import models.senet as SENet\n",
    "\n",
    "import torchvision.models as models\n",
    "import pickle\n",
    "\n",
    "import pandas as pd\n",
    "\n",
    "import sklearn.metrics\n",
    "import matplotlib.pyplot as plt"
   ]
  },
  {
   "cell_type": "code",
   "execution_count": 2,
   "metadata": {},
   "outputs": [],
   "source": [
    "from models import resnet, resnet50_ferplus_dag, resnet50_ft_dag, resnet50_scratch_dag, senet, senet50_ferplus_dag, senet50_ft_dag, senet50_scratch_dag, vgg_face_dag, vgg_m_face_bn_dag"
   ]
  },
  {
   "cell_type": "markdown",
   "metadata": {},
   "source": [
    "### Choose Architecture:"
   ]
  },
  {
   "cell_type": "code",
   "execution_count": 3,
   "metadata": {
    "tags": []
   },
   "outputs": [
    {
     "name": "stderr",
     "output_type": "stream",
     "text": [
      "C:\\Users\\Public\\Anaconda3\\envs\\Pytorch\\lib\\site-packages\\torchvision\\transforms\\transforms.py:310: UserWarning: The use of the transforms.Scale transform is deprecated, please use transforms.Resize instead.\n",
      "  warnings.warn(\"The use of the transforms.Scale transform is deprecated, \" +\n"
     ]
    },
    {
     "data": {
      "text/plain": [
       "Senet50_ft_dag(\n",
       "  (conv1_7x7_s2): Conv2d(3, 64, kernel_size=(7, 7), stride=(2, 2), padding=(3, 3), bias=False)\n",
       "  (conv1_7x7_s2_bn): BatchNorm2d(64, eps=1e-05, momentum=0.1, affine=True, track_running_stats=True)\n",
       "  (conv1_relu_7x7_s2): ReLU()\n",
       "  (pool1_3x3_s2): MaxPool2d(kernel_size=[3, 3], stride=[2, 2], padding=(0, 0), dilation=1, ceil_mode=True)\n",
       "  (conv2_1_1x1_reduce): Conv2d(64, 64, kernel_size=(1, 1), stride=(1, 1), bias=False)\n",
       "  (conv2_1_1x1_reduce_bn): BatchNorm2d(64, eps=1e-05, momentum=0.1, affine=True, track_running_stats=True)\n",
       "  (conv2_1_1x1_reduce_relu): ReLU()\n",
       "  (conv2_1_3x3): Conv2d(64, 64, kernel_size=(3, 3), stride=(1, 1), padding=(1, 1), bias=False)\n",
       "  (conv2_1_3x3_bn): BatchNorm2d(64, eps=1e-05, momentum=0.1, affine=True, track_running_stats=True)\n",
       "  (conv2_1_3x3_relu): ReLU()\n",
       "  (conv2_1_1x1_increase): Conv2d(64, 256, kernel_size=(1, 1), stride=(1, 1), bias=False)\n",
       "  (conv2_1_1x1_increase_bn): BatchNorm2d(256, eps=1e-05, momentum=0.1, affine=True, track_running_stats=True)\n",
       "  (conv2_1_global_pool): AdaptiveAvgPool2d(output_size=1)\n",
       "  (conv2_1_1x1_down): Conv2d(256, 16, kernel_size=(1, 1), stride=(1, 1))\n",
       "  (conv2_1_1x1_down_relu): ReLU()\n",
       "  (conv2_1_1x1_up): Conv2d(16, 256, kernel_size=(1, 1), stride=(1, 1))\n",
       "  (conv2_1_prob): Sigmoid()\n",
       "  (conv2_1_1x1_proj): Conv2d(64, 256, kernel_size=(1, 1), stride=(1, 1), bias=False)\n",
       "  (conv2_1_1x1_proj_bn): BatchNorm2d(256, eps=1e-05, momentum=0.1, affine=True, track_running_stats=True)\n",
       "  (conv2_1_relu): ReLU()\n",
       "  (conv2_2_1x1_reduce): Conv2d(256, 64, kernel_size=(1, 1), stride=(1, 1), bias=False)\n",
       "  (conv2_2_1x1_reduce_bn): BatchNorm2d(64, eps=1e-05, momentum=0.1, affine=True, track_running_stats=True)\n",
       "  (conv2_2_1x1_reduce_relu): ReLU()\n",
       "  (conv2_2_3x3): Conv2d(64, 64, kernel_size=(3, 3), stride=(1, 1), padding=(1, 1), bias=False)\n",
       "  (conv2_2_3x3_bn): BatchNorm2d(64, eps=1e-05, momentum=0.1, affine=True, track_running_stats=True)\n",
       "  (conv2_2_3x3_relu): ReLU()\n",
       "  (conv2_2_1x1_increase): Conv2d(64, 256, kernel_size=(1, 1), stride=(1, 1), bias=False)\n",
       "  (conv2_2_1x1_increase_bn): BatchNorm2d(256, eps=1e-05, momentum=0.1, affine=True, track_running_stats=True)\n",
       "  (conv2_2_global_pool): AdaptiveAvgPool2d(output_size=1)\n",
       "  (conv2_2_1x1_down): Conv2d(256, 16, kernel_size=(1, 1), stride=(1, 1))\n",
       "  (conv2_2_1x1_down_relu): ReLU()\n",
       "  (conv2_2_1x1_up): Conv2d(16, 256, kernel_size=(1, 1), stride=(1, 1))\n",
       "  (conv2_2_prob): Sigmoid()\n",
       "  (conv2_2_relu): ReLU()\n",
       "  (conv2_3_1x1_reduce): Conv2d(256, 64, kernel_size=(1, 1), stride=(1, 1), bias=False)\n",
       "  (conv2_3_1x1_reduce_bn): BatchNorm2d(64, eps=1e-05, momentum=0.1, affine=True, track_running_stats=True)\n",
       "  (conv2_3_1x1_reduce_relu): ReLU()\n",
       "  (conv2_3_3x3): Conv2d(64, 64, kernel_size=(3, 3), stride=(1, 1), padding=(1, 1), bias=False)\n",
       "  (conv2_3_3x3_bn): BatchNorm2d(64, eps=1e-05, momentum=0.1, affine=True, track_running_stats=True)\n",
       "  (conv2_3_3x3_relu): ReLU()\n",
       "  (conv2_3_1x1_increase): Conv2d(64, 256, kernel_size=(1, 1), stride=(1, 1), bias=False)\n",
       "  (conv2_3_1x1_increase_bn): BatchNorm2d(256, eps=1e-05, momentum=0.1, affine=True, track_running_stats=True)\n",
       "  (conv2_3_global_pool): AdaptiveAvgPool2d(output_size=1)\n",
       "  (conv2_3_1x1_down): Conv2d(256, 16, kernel_size=(1, 1), stride=(1, 1))\n",
       "  (conv2_3_1x1_down_relu): ReLU()\n",
       "  (conv2_3_1x1_up): Conv2d(16, 256, kernel_size=(1, 1), stride=(1, 1))\n",
       "  (conv2_3_prob): Sigmoid()\n",
       "  (conv2_3_relu): ReLU()\n",
       "  (conv3_1_1x1_reduce): Conv2d(256, 128, kernel_size=(1, 1), stride=(2, 2), bias=False)\n",
       "  (conv3_1_1x1_reduce_bn): BatchNorm2d(128, eps=1e-05, momentum=0.1, affine=True, track_running_stats=True)\n",
       "  (conv3_1_1x1_reduce_relu): ReLU()\n",
       "  (conv3_1_3x3): Conv2d(128, 128, kernel_size=(3, 3), stride=(1, 1), padding=(1, 1), bias=False)\n",
       "  (conv3_1_3x3_bn): BatchNorm2d(128, eps=1e-05, momentum=0.1, affine=True, track_running_stats=True)\n",
       "  (conv3_1_3x3_relu): ReLU()\n",
       "  (conv3_1_1x1_increase): Conv2d(128, 512, kernel_size=(1, 1), stride=(1, 1), bias=False)\n",
       "  (conv3_1_1x1_increase_bn): BatchNorm2d(512, eps=1e-05, momentum=0.1, affine=True, track_running_stats=True)\n",
       "  (conv3_1_global_pool): AdaptiveAvgPool2d(output_size=1)\n",
       "  (conv3_1_1x1_down): Conv2d(512, 32, kernel_size=(1, 1), stride=(1, 1))\n",
       "  (conv3_1_1x1_down_relu): ReLU()\n",
       "  (conv3_1_1x1_up): Conv2d(32, 512, kernel_size=(1, 1), stride=(1, 1))\n",
       "  (conv3_1_prob): Sigmoid()\n",
       "  (conv3_1_1x1_proj): Conv2d(256, 512, kernel_size=(1, 1), stride=(2, 2), bias=False)\n",
       "  (conv3_1_1x1_proj_bn): BatchNorm2d(512, eps=1e-05, momentum=0.1, affine=True, track_running_stats=True)\n",
       "  (conv3_1_relu): ReLU()\n",
       "  (conv3_2_1x1_reduce): Conv2d(512, 128, kernel_size=(1, 1), stride=(1, 1), bias=False)\n",
       "  (conv3_2_1x1_reduce_bn): BatchNorm2d(128, eps=1e-05, momentum=0.1, affine=True, track_running_stats=True)\n",
       "  (conv3_2_1x1_reduce_relu): ReLU()\n",
       "  (conv3_2_3x3): Conv2d(128, 128, kernel_size=(3, 3), stride=(1, 1), padding=(1, 1), bias=False)\n",
       "  (conv3_2_3x3_bn): BatchNorm2d(128, eps=1e-05, momentum=0.1, affine=True, track_running_stats=True)\n",
       "  (conv3_2_3x3_relu): ReLU()\n",
       "  (conv3_2_1x1_increase): Conv2d(128, 512, kernel_size=(1, 1), stride=(1, 1), bias=False)\n",
       "  (conv3_2_1x1_increase_bn): BatchNorm2d(512, eps=1e-05, momentum=0.1, affine=True, track_running_stats=True)\n",
       "  (conv3_2_global_pool): AdaptiveAvgPool2d(output_size=1)\n",
       "  (conv3_2_1x1_down): Conv2d(512, 32, kernel_size=(1, 1), stride=(1, 1))\n",
       "  (conv3_2_1x1_down_relu): ReLU()\n",
       "  (conv3_2_1x1_up): Conv2d(32, 512, kernel_size=(1, 1), stride=(1, 1))\n",
       "  (conv3_2_prob): Sigmoid()\n",
       "  (conv3_2_relu): ReLU()\n",
       "  (conv3_3_1x1_reduce): Conv2d(512, 128, kernel_size=(1, 1), stride=(1, 1), bias=False)\n",
       "  (conv3_3_1x1_reduce_bn): BatchNorm2d(128, eps=1e-05, momentum=0.1, affine=True, track_running_stats=True)\n",
       "  (conv3_3_1x1_reduce_relu): ReLU()\n",
       "  (conv3_3_3x3): Conv2d(128, 128, kernel_size=(3, 3), stride=(1, 1), padding=(1, 1), bias=False)\n",
       "  (conv3_3_3x3_bn): BatchNorm2d(128, eps=1e-05, momentum=0.1, affine=True, track_running_stats=True)\n",
       "  (conv3_3_3x3_relu): ReLU()\n",
       "  (conv3_3_1x1_increase): Conv2d(128, 512, kernel_size=(1, 1), stride=(1, 1), bias=False)\n",
       "  (conv3_3_1x1_increase_bn): BatchNorm2d(512, eps=1e-05, momentum=0.1, affine=True, track_running_stats=True)\n",
       "  (conv3_3_global_pool): AdaptiveAvgPool2d(output_size=1)\n",
       "  (conv3_3_1x1_down): Conv2d(512, 32, kernel_size=(1, 1), stride=(1, 1))\n",
       "  (conv3_3_1x1_down_relu): ReLU()\n",
       "  (conv3_3_1x1_up): Conv2d(32, 512, kernel_size=(1, 1), stride=(1, 1))\n",
       "  (conv3_3_prob): Sigmoid()\n",
       "  (conv3_3_relu): ReLU()\n",
       "  (conv3_4_1x1_reduce): Conv2d(512, 128, kernel_size=(1, 1), stride=(1, 1), bias=False)\n",
       "  (conv3_4_1x1_reduce_bn): BatchNorm2d(128, eps=1e-05, momentum=0.1, affine=True, track_running_stats=True)\n",
       "  (conv3_4_1x1_reduce_relu): ReLU()\n",
       "  (conv3_4_3x3): Conv2d(128, 128, kernel_size=(3, 3), stride=(1, 1), padding=(1, 1), bias=False)\n",
       "  (conv3_4_3x3_bn): BatchNorm2d(128, eps=1e-05, momentum=0.1, affine=True, track_running_stats=True)\n",
       "  (conv3_4_3x3_relu): ReLU()\n",
       "  (conv3_4_1x1_increase): Conv2d(128, 512, kernel_size=(1, 1), stride=(1, 1), bias=False)\n",
       "  (conv3_4_1x1_increase_bn): BatchNorm2d(512, eps=1e-05, momentum=0.1, affine=True, track_running_stats=True)\n",
       "  (conv3_4_global_pool): AdaptiveAvgPool2d(output_size=1)\n",
       "  (conv3_4_1x1_down): Conv2d(512, 32, kernel_size=(1, 1), stride=(1, 1))\n",
       "  (conv3_4_1x1_down_relu): ReLU()\n",
       "  (conv3_4_1x1_up): Conv2d(32, 512, kernel_size=(1, 1), stride=(1, 1))\n",
       "  (conv3_4_prob): Sigmoid()\n",
       "  (conv3_4_relu): ReLU()\n",
       "  (conv4_1_1x1_reduce): Conv2d(512, 256, kernel_size=(1, 1), stride=(2, 2), bias=False)\n",
       "  (conv4_1_1x1_reduce_bn): BatchNorm2d(256, eps=1e-05, momentum=0.1, affine=True, track_running_stats=True)\n",
       "  (conv4_1_1x1_reduce_relu): ReLU()\n",
       "  (conv4_1_3x3): Conv2d(256, 256, kernel_size=(3, 3), stride=(1, 1), padding=(1, 1), bias=False)\n",
       "  (conv4_1_3x3_bn): BatchNorm2d(256, eps=1e-05, momentum=0.1, affine=True, track_running_stats=True)\n",
       "  (conv4_1_3x3_relu): ReLU()\n",
       "  (conv4_1_1x1_increase): Conv2d(256, 1024, kernel_size=(1, 1), stride=(1, 1), bias=False)\n",
       "  (conv4_1_1x1_increase_bn): BatchNorm2d(1024, eps=1e-05, momentum=0.1, affine=True, track_running_stats=True)\n",
       "  (conv4_1_global_pool): AdaptiveAvgPool2d(output_size=1)\n",
       "  (conv4_1_1x1_down): Conv2d(1024, 64, kernel_size=(1, 1), stride=(1, 1))\n",
       "  (conv4_1_1x1_down_relu): ReLU()\n",
       "  (conv4_1_1x1_up): Conv2d(64, 1024, kernel_size=(1, 1), stride=(1, 1))\n",
       "  (conv4_1_prob): Sigmoid()\n",
       "  (conv4_1_1x1_proj): Conv2d(512, 1024, kernel_size=(1, 1), stride=(2, 2), bias=False)\n",
       "  (conv4_1_1x1_proj_bn): BatchNorm2d(1024, eps=1e-05, momentum=0.1, affine=True, track_running_stats=True)\n",
       "  (conv4_1_relu): ReLU()\n",
       "  (conv4_2_1x1_reduce): Conv2d(1024, 256, kernel_size=(1, 1), stride=(1, 1), bias=False)\n",
       "  (conv4_2_1x1_reduce_bn): BatchNorm2d(256, eps=1e-05, momentum=0.1, affine=True, track_running_stats=True)\n",
       "  (conv4_2_1x1_reduce_relu): ReLU()\n",
       "  (conv4_2_3x3): Conv2d(256, 256, kernel_size=(3, 3), stride=(1, 1), padding=(1, 1), bias=False)\n",
       "  (conv4_2_3x3_bn): BatchNorm2d(256, eps=1e-05, momentum=0.1, affine=True, track_running_stats=True)\n",
       "  (conv4_2_3x3_relu): ReLU()\n",
       "  (conv4_2_1x1_increase): Conv2d(256, 1024, kernel_size=(1, 1), stride=(1, 1), bias=False)\n",
       "  (conv4_2_1x1_increase_bn): BatchNorm2d(1024, eps=1e-05, momentum=0.1, affine=True, track_running_stats=True)\n",
       "  (conv4_2_global_pool): AdaptiveAvgPool2d(output_size=1)\n",
       "  (conv4_2_1x1_down): Conv2d(1024, 64, kernel_size=(1, 1), stride=(1, 1))\n",
       "  (conv4_2_1x1_down_relu): ReLU()\n",
       "  (conv4_2_1x1_up): Conv2d(64, 1024, kernel_size=(1, 1), stride=(1, 1))\n",
       "  (conv4_2_prob): Sigmoid()\n",
       "  (conv4_2_relu): ReLU()\n",
       "  (conv4_3_1x1_reduce): Conv2d(1024, 256, kernel_size=(1, 1), stride=(1, 1), bias=False)\n",
       "  (conv4_3_1x1_reduce_bn): BatchNorm2d(256, eps=1e-05, momentum=0.1, affine=True, track_running_stats=True)\n",
       "  (conv4_3_1x1_reduce_relu): ReLU()\n",
       "  (conv4_3_3x3): Conv2d(256, 256, kernel_size=(3, 3), stride=(1, 1), padding=(1, 1), bias=False)\n",
       "  (conv4_3_3x3_bn): BatchNorm2d(256, eps=1e-05, momentum=0.1, affine=True, track_running_stats=True)\n",
       "  (conv4_3_3x3_relu): ReLU()\n",
       "  (conv4_3_1x1_increase): Conv2d(256, 1024, kernel_size=(1, 1), stride=(1, 1), bias=False)\n",
       "  (conv4_3_1x1_increase_bn): BatchNorm2d(1024, eps=1e-05, momentum=0.1, affine=True, track_running_stats=True)\n",
       "  (conv4_3_global_pool): AdaptiveAvgPool2d(output_size=1)\n",
       "  (conv4_3_1x1_down): Conv2d(1024, 64, kernel_size=(1, 1), stride=(1, 1))\n",
       "  (conv4_3_1x1_down_relu): ReLU()\n",
       "  (conv4_3_1x1_up): Conv2d(64, 1024, kernel_size=(1, 1), stride=(1, 1))\n",
       "  (conv4_3_prob): Sigmoid()\n",
       "  (conv4_3_relu): ReLU()\n",
       "  (conv4_4_1x1_reduce): Conv2d(1024, 256, kernel_size=(1, 1), stride=(1, 1), bias=False)\n",
       "  (conv4_4_1x1_reduce_bn): BatchNorm2d(256, eps=1e-05, momentum=0.1, affine=True, track_running_stats=True)\n",
       "  (conv4_4_1x1_reduce_relu): ReLU()\n",
       "  (conv4_4_3x3): Conv2d(256, 256, kernel_size=(3, 3), stride=(1, 1), padding=(1, 1), bias=False)\n",
       "  (conv4_4_3x3_bn): BatchNorm2d(256, eps=1e-05, momentum=0.1, affine=True, track_running_stats=True)\n",
       "  (conv4_4_3x3_relu): ReLU()\n",
       "  (conv4_4_1x1_increase): Conv2d(256, 1024, kernel_size=(1, 1), stride=(1, 1), bias=False)\n",
       "  (conv4_4_1x1_increase_bn): BatchNorm2d(1024, eps=1e-05, momentum=0.1, affine=True, track_running_stats=True)\n",
       "  (conv4_4_global_pool): AdaptiveAvgPool2d(output_size=1)\n",
       "  (conv4_4_1x1_down): Conv2d(1024, 64, kernel_size=(1, 1), stride=(1, 1))\n",
       "  (conv4_4_1x1_down_relu): ReLU()\n",
       "  (conv4_4_1x1_up): Conv2d(64, 1024, kernel_size=(1, 1), stride=(1, 1))\n",
       "  (conv4_4_prob): Sigmoid()\n",
       "  (conv4_4_relu): ReLU()\n",
       "  (conv4_5_1x1_reduce): Conv2d(1024, 256, kernel_size=(1, 1), stride=(1, 1), bias=False)\n",
       "  (conv4_5_1x1_reduce_bn): BatchNorm2d(256, eps=1e-05, momentum=0.1, affine=True, track_running_stats=True)\n",
       "  (conv4_5_1x1_reduce_relu): ReLU()\n",
       "  (conv4_5_3x3): Conv2d(256, 256, kernel_size=(3, 3), stride=(1, 1), padding=(1, 1), bias=False)\n",
       "  (conv4_5_3x3_bn): BatchNorm2d(256, eps=1e-05, momentum=0.1, affine=True, track_running_stats=True)\n",
       "  (conv4_5_3x3_relu): ReLU()\n",
       "  (conv4_5_1x1_increase): Conv2d(256, 1024, kernel_size=(1, 1), stride=(1, 1), bias=False)\n",
       "  (conv4_5_1x1_increase_bn): BatchNorm2d(1024, eps=1e-05, momentum=0.1, affine=True, track_running_stats=True)\n",
       "  (conv4_5_global_pool): AdaptiveAvgPool2d(output_size=1)\n",
       "  (conv4_5_1x1_down): Conv2d(1024, 64, kernel_size=(1, 1), stride=(1, 1))\n",
       "  (conv4_5_1x1_down_relu): ReLU()\n",
       "  (conv4_5_1x1_up): Conv2d(64, 1024, kernel_size=(1, 1), stride=(1, 1))\n",
       "  (conv4_5_prob): Sigmoid()\n",
       "  (conv4_5_relu): ReLU()\n",
       "  (conv4_6_1x1_reduce): Conv2d(1024, 256, kernel_size=(1, 1), stride=(1, 1), bias=False)\n",
       "  (conv4_6_1x1_reduce_bn): BatchNorm2d(256, eps=1e-05, momentum=0.1, affine=True, track_running_stats=True)\n",
       "  (conv4_6_1x1_reduce_relu): ReLU()\n",
       "  (conv4_6_3x3): Conv2d(256, 256, kernel_size=(3, 3), stride=(1, 1), padding=(1, 1), bias=False)\n",
       "  (conv4_6_3x3_bn): BatchNorm2d(256, eps=1e-05, momentum=0.1, affine=True, track_running_stats=True)\n",
       "  (conv4_6_3x3_relu): ReLU()\n",
       "  (conv4_6_1x1_increase): Conv2d(256, 1024, kernel_size=(1, 1), stride=(1, 1), bias=False)\n",
       "  (conv4_6_1x1_increase_bn): BatchNorm2d(1024, eps=1e-05, momentum=0.1, affine=True, track_running_stats=True)\n",
       "  (conv4_6_global_pool): AdaptiveAvgPool2d(output_size=1)\n",
       "  (conv4_6_1x1_down): Conv2d(1024, 64, kernel_size=(1, 1), stride=(1, 1))\n",
       "  (conv4_6_1x1_down_relu): ReLU()\n",
       "  (conv4_6_1x1_up): Conv2d(64, 1024, kernel_size=(1, 1), stride=(1, 1))\n",
       "  (conv4_6_prob): Sigmoid()\n",
       "  (conv4_6_relu): ReLU()\n",
       "  (conv5_1_1x1_reduce): Conv2d(1024, 512, kernel_size=(1, 1), stride=(2, 2), bias=False)\n",
       "  (conv5_1_1x1_reduce_bn): BatchNorm2d(512, eps=1e-05, momentum=0.1, affine=True, track_running_stats=True)\n",
       "  (conv5_1_1x1_reduce_relu): ReLU()\n",
       "  (conv5_1_3x3): Conv2d(512, 512, kernel_size=(3, 3), stride=(1, 1), padding=(1, 1), bias=False)\n",
       "  (conv5_1_3x3_bn): BatchNorm2d(512, eps=1e-05, momentum=0.1, affine=True, track_running_stats=True)\n",
       "  (conv5_1_3x3_relu): ReLU()\n",
       "  (conv5_1_1x1_increase): Conv2d(512, 2048, kernel_size=(1, 1), stride=(1, 1), bias=False)\n",
       "  (conv5_1_1x1_increase_bn): BatchNorm2d(2048, eps=1e-05, momentum=0.1, affine=True, track_running_stats=True)\n",
       "  (conv5_1_global_pool): AdaptiveAvgPool2d(output_size=1)\n",
       "  (conv5_1_1x1_down): Conv2d(2048, 128, kernel_size=(1, 1), stride=(1, 1))\n",
       "  (conv5_1_1x1_down_relu): ReLU()\n",
       "  (conv5_1_1x1_up): Conv2d(128, 2048, kernel_size=(1, 1), stride=(1, 1))\n",
       "  (conv5_1_prob): Sigmoid()\n",
       "  (conv5_1_1x1_proj): Conv2d(1024, 2048, kernel_size=(1, 1), stride=(2, 2), bias=False)\n",
       "  (conv5_1_1x1_proj_bn): BatchNorm2d(2048, eps=1e-05, momentum=0.1, affine=True, track_running_stats=True)\n",
       "  (conv5_1_relu): ReLU()\n",
       "  (conv5_2_1x1_reduce): Conv2d(2048, 512, kernel_size=(1, 1), stride=(1, 1), bias=False)\n",
       "  (conv5_2_1x1_reduce_bn): BatchNorm2d(512, eps=1e-05, momentum=0.1, affine=True, track_running_stats=True)\n",
       "  (conv5_2_1x1_reduce_relu): ReLU()\n",
       "  (conv5_2_3x3): Conv2d(512, 512, kernel_size=(3, 3), stride=(1, 1), padding=(1, 1), bias=False)\n",
       "  (conv5_2_3x3_bn): BatchNorm2d(512, eps=1e-05, momentum=0.1, affine=True, track_running_stats=True)\n",
       "  (conv5_2_3x3_relu): ReLU()\n",
       "  (conv5_2_1x1_increase): Conv2d(512, 2048, kernel_size=(1, 1), stride=(1, 1), bias=False)\n",
       "  (conv5_2_1x1_increase_bn): BatchNorm2d(2048, eps=1e-05, momentum=0.1, affine=True, track_running_stats=True)\n",
       "  (conv5_2_global_pool): AdaptiveAvgPool2d(output_size=1)\n",
       "  (conv5_2_1x1_down): Conv2d(2048, 128, kernel_size=(1, 1), stride=(1, 1))\n",
       "  (conv5_2_1x1_down_relu): ReLU()\n",
       "  (conv5_2_1x1_up): Conv2d(128, 2048, kernel_size=(1, 1), stride=(1, 1))\n",
       "  (conv5_2_prob): Sigmoid()\n",
       "  (conv5_2_relu): ReLU()\n",
       "  (conv5_3_1x1_reduce): Conv2d(2048, 512, kernel_size=(1, 1), stride=(1, 1), bias=False)\n",
       "  (conv5_3_1x1_reduce_bn): BatchNorm2d(512, eps=1e-05, momentum=0.1, affine=True, track_running_stats=True)\n",
       "  (conv5_3_1x1_reduce_relu): ReLU()\n",
       "  (conv5_3_3x3): Conv2d(512, 512, kernel_size=(3, 3), stride=(1, 1), padding=(1, 1), bias=False)\n",
       "  (conv5_3_3x3_bn): BatchNorm2d(512, eps=1e-05, momentum=0.1, affine=True, track_running_stats=True)\n",
       "  (conv5_3_3x3_relu): ReLU()\n",
       "  (conv5_3_1x1_increase): Conv2d(512, 2048, kernel_size=(1, 1), stride=(1, 1), bias=False)\n",
       "  (conv5_3_1x1_increase_bn): BatchNorm2d(2048, eps=1e-05, momentum=0.1, affine=True, track_running_stats=True)\n",
       "  (conv5_3_global_pool): AdaptiveAvgPool2d(output_size=1)\n",
       "  (conv5_3_1x1_down): Conv2d(2048, 128, kernel_size=(1, 1), stride=(1, 1))\n",
       "  (conv5_3_1x1_down_relu): ReLU()\n",
       "  (conv5_3_1x1_up): Conv2d(128, 2048, kernel_size=(1, 1), stride=(1, 1))\n",
       "  (conv5_3_prob): Sigmoid()\n",
       "  (conv5_3_relu): ReLU()\n",
       "  (pool5_7x7_s1): AvgPool2d(kernel_size=[7, 7], stride=[1, 1], padding=0)\n",
       "  (classifier): Conv2d(2048, 8631, kernel_size=(1, 1), stride=(1, 1))\n",
       ")"
      ]
     },
     "execution_count": 3,
     "metadata": {},
     "output_type": "execute_result"
    }
   ],
   "source": [
    "\n",
    "\n",
    "############  CHOOSE HERE WHICH ALGORITHM YOU WANT: #################\n",
    "\n",
    "# model = resnet50_ft_dag.resnet50_ft_dag(weights_path='Weights/resnet50_ft_dag.pth')\n",
    "# SaveAs = 'ResNet50_MS1M_'\n",
    "\n",
    "\n",
    "# model = resnet50_scratch_dag.resnet50_scratch_dag(weights_path='Weights/resnet50_scratch_dag.pth')\n",
    "# SaveAs = 'ResNet50_VggFace2_'\n",
    "\n",
    "model = senet50_ft_dag.senet50_ft_dag(weights_path='Weights/senet50_ft_dag.pth')\n",
    "# SaveAs = 'SeNet50_MS1M_'\n",
    "\n",
    "# model = senet50_scratch_dag.senet50_scratch_dag(weights_path='Weights/senet50_scratch_dag.pth')\n",
    "# SaveAs = 'SeNet50_VggFace2_'\n",
    "\n",
    "######################################################################\n",
    "\n",
    "\n",
    "\n",
    "\n",
    "\n",
    "scaler = transforms.Scale((224, 224))\n",
    "normalize = transforms.Normalize(mean=[0.485, 0.456, 0.406],\n",
    "                                 std=[0.229, 0.224, 0.225])\n",
    "\n",
    "\n",
    "to_tensor = transforms.ToTensor()\n",
    "\n",
    "model.eval()"
   ]
  },
  {
   "cell_type": "markdown",
   "metadata": {},
   "source": [
    "### Get Euclidean Distance of penultimal Layers between pairs of faces:"
   ]
  },
  {
   "cell_type": "code",
   "execution_count": 59,
   "metadata": {},
   "outputs": [],
   "source": [
    "def RunModel(img_url_1,img_url_2):\n",
    "    \n",
    "    imagepath = img_url_1\n",
    "    image = Image.open(imagepath)\n",
    "    imgblob = Variable(normalize(to_tensor(image)).unsqueeze(0))\n",
    "    output1 = model(imgblob)\n",
    "    output1 = output1[1].flatten()\n",
    "    \n",
    "        \n",
    "        \n",
    "    imagepath = img_url_2\n",
    "    image = Image.open(imagepath)\n",
    "    imgblob = Variable(normalize(to_tensor(image)).unsqueeze(0))\n",
    "    output2 = model(imgblob)\n",
    "    output2 = output2[1].flatten()\n",
    "        \n",
    "    \n",
    "\n",
    "    dist = np.linalg.norm(output1.detach().numpy()-output2.detach().numpy())\n",
    "#     print(dist)\n",
    "    \n",
    "    return(dist)"
   ]
  },
  {
   "cell_type": "code",
   "execution_count": null,
   "metadata": {},
   "outputs": [],
   "source": []
  },
  {
   "cell_type": "markdown",
   "metadata": {},
   "source": [
    "### Run: "
   ]
  },
  {
   "cell_type": "markdown",
   "metadata": {},
   "source": [
    "### Run: "
   ]
  },
  {
   "cell_type": "code",
   "execution_count": null,
   "metadata": {},
   "outputs": [],
   "source": []
  },
  {
   "cell_type": "code",
   "execution_count": 60,
   "metadata": {},
   "outputs": [],
   "source": [
    "list_dir = os.listdir('C:/Users/Public/Documents/PNAS2018Images/SeparatedImages/')"
   ]
  },
  {
   "cell_type": "code",
   "execution_count": 61,
   "metadata": {},
   "outputs": [],
   "source": [
    "list_dir = list_dir[1:]"
   ]
  },
  {
   "cell_type": "code",
   "execution_count": 62,
   "metadata": {},
   "outputs": [
    {
     "data": {
      "text/plain": [
       "['D1_a.png',\n",
       " 'D1_b.png',\n",
       " 'D2_a.png',\n",
       " 'D2_b.png',\n",
       " 'D3_a.png',\n",
       " 'D3_b.png',\n",
       " 'D4_a.png',\n",
       " 'D4_b.png',\n",
       " 'D5_a.png',\n",
       " 'D5_b.png',\n",
       " 'D6_a.png',\n",
       " 'D6_b.png',\n",
       " 'D7_a.png',\n",
       " 'D7_b.png',\n",
       " 'D8_a.png',\n",
       " 'D8_b.png',\n",
       " 'S10_a.png',\n",
       " 'S10_b.png',\n",
       " 'S11_a.png',\n",
       " 'S11_b.png',\n",
       " 'S12_a.png',\n",
       " 'S12_b.png',\n",
       " 'S1_a.png',\n",
       " 'S1_b.png',\n",
       " 'S2_a.png',\n",
       " 'S2_b.png',\n",
       " 'S3_a.png',\n",
       " 'S3_b.png',\n",
       " 'S4_a.png',\n",
       " 'S4_b.png',\n",
       " 'S5_a.png',\n",
       " 'S5_b.png',\n",
       " 'S6_a.png',\n",
       " 'S6_b.png',\n",
       " 'S7_a.png',\n",
       " 'S7_b.png',\n",
       " 'S8_a.png',\n",
       " 'S8_b.png',\n",
       " 'S9_a.png',\n",
       " 'S9_b.png']"
      ]
     },
     "execution_count": 62,
     "metadata": {},
     "output_type": "execute_result"
    }
   ],
   "source": [
    "list_dir"
   ]
  },
  {
   "cell_type": "code",
   "execution_count": 63,
   "metadata": {},
   "outputs": [
    {
     "name": "stdout",
     "output_type": "stream",
     "text": [
      "S8_a.png\n",
      "S8_b.png\n"
     ]
    }
   ],
   "source": [
    "model_result=[]\n",
    "for i in range(0,40,2):\n",
    "    try:\n",
    "        model_result.append(RunModel('C:/Users/Public/Documents/PNAS2018Images/CroppedDatabase/' + list_dir[i],'C:/Users/Public/Documents/PNAS2018Images/CroppedDatabase/' + list_dir[i+1]))\n",
    "    except:\n",
    "        print(list_dir[i])\n",
    "        print(list_dir[i+1])"
   ]
  },
  {
   "cell_type": "code",
   "execution_count": 64,
   "metadata": {
    "tags": []
   },
   "outputs": [
    {
     "name": "stdout",
     "output_type": "stream",
     "text": [
      "1.7322009\n",
      "1.1989387\n",
      "4.4591928\n",
      "1.3510814\n",
      "2.6296053\n",
      "2.831309\n",
      "2.6759534\n",
      "4.3459625\n",
      "2.5112581\n",
      "10.682509\n",
      "5.7089863\n",
      "2.3192117\n",
      "1.5090001\n",
      "1.9497765\n",
      "3.138979\n",
      "1.2775304\n",
      "7.810482\n",
      "3.4668612\n",
      "2.2346666\n"
     ]
    }
   ],
   "source": [
    "# Show the scores\n",
    "for i in range(len(model_result)):\n",
    "    print(model_result[i])"
   ]
  },
  {
   "cell_type": "code",
   "execution_count": null,
   "metadata": {},
   "outputs": [],
   "source": []
  },
  {
   "cell_type": "code",
   "execution_count": null,
   "metadata": {},
   "outputs": [],
   "source": []
  },
  {
   "cell_type": "code",
   "execution_count": 65,
   "metadata": {},
   "outputs": [],
   "source": [
    "ground_truth = []\n",
    "\n",
    "for i in range(8):\n",
    "    ground_truth.append('different') \n",
    "\n",
    "for i in range(11):\n",
    "    ground_truth.append('same')\n",
    "    \n"
   ]
  },
  {
   "cell_type": "code",
   "execution_count": 66,
   "metadata": {},
   "outputs": [],
   "source": [
    "fpr,tpr,thresholds = sklearn.metrics.roc_curve(ground_truth,np.array(model_result),pos_label='different')"
   ]
  },
  {
   "cell_type": "code",
   "execution_count": 67,
   "metadata": {},
   "outputs": [
    {
     "data": {
      "text/plain": [
       "(array([0.        , 0.09090909, 0.27272727, 0.27272727, 0.45454545,\n",
       "        0.45454545, 0.81818182, 0.81818182, 0.90909091, 0.90909091,\n",
       "        1.        , 1.        ]),\n",
       " array([0.   , 0.   , 0.   , 0.25 , 0.25 , 0.625, 0.625, 0.75 , 0.75 ,\n",
       "        0.875, 0.875, 1.   ]),\n",
       " array([11.682509 , 10.682509 ,  5.7089863,  4.3459625,  3.138979 ,\n",
       "         2.6296053,  1.9497765,  1.7322009,  1.5090001,  1.3510814,\n",
       "         1.2775304,  1.1989387], dtype=float32))"
      ]
     },
     "execution_count": 67,
     "metadata": {},
     "output_type": "execute_result"
    }
   ],
   "source": [
    "fpr,tpr,thresholds"
   ]
  },
  {
   "cell_type": "code",
   "execution_count": 68,
   "metadata": {},
   "outputs": [
    {
     "data": {
      "text/plain": [
       "[<matplotlib.lines.Line2D at 0x20e6d041820>]"
      ]
     },
     "execution_count": 68,
     "metadata": {},
     "output_type": "execute_result"
    },
    {
     "data": {
      "image/png": "[encoded data removed]",
      "text/plain": [
       "<Figure size 432x288 with 1 Axes>"
      ]
     },
     "metadata": {
      "needs_background": "light"
     },
     "output_type": "display_data"
    }
   ],
   "source": [
    "plt.plot(fpr,tpr)"
   ]
  },
  {
   "cell_type": "code",
   "execution_count": 69,
   "metadata": {},
   "outputs": [
    {
     "data": {
      "text/plain": [
       "0.42045454545454547"
      ]
     },
     "execution_count": 69,
     "metadata": {},
     "output_type": "execute_result"
    }
   ],
   "source": [
    "sklearn.metrics.auc(fpr,tpr)"
   ]
  },
  {
   "cell_type": "code",
   "execution_count": null,
   "metadata": {},
   "outputs": [],
   "source": []
  },
  {
   "cell_type": "code",
   "execution_count": null,
   "metadata": {},
   "outputs": [],
   "source": []
  }
 ],
 "metadata": {
  "kernelspec": {
   "display_name": "Python 3",
   "language": "python",
   "name": "python3"
  },
  "language_info": {
   "codemirror_mode": {
    "name": "ipython",
    "version": 3
   },
   "file_extension": ".py",
   "mimetype": "text/x-python",
   "name": "python",
   "nbconvert_exporter": "python",
   "pygments_lexer": "ipython3",
   "version": "3.8.10"
  }
 },
 "nbformat": 4,
 "nbformat_minor": 4
}
