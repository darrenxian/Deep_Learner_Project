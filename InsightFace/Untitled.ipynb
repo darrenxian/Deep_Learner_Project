{
 "cells": [
  {
   "cell_type": "code",
   "execution_count": 2,
   "id": "8dabf985-0ad2-45ab-9761-41b992545d9b",
   "metadata": {},
   "outputs": [
    {
     "ename": "ModuleNotFoundError",
     "evalue": "No module named 'insightface'",
     "output_type": "error",
     "traceback": [
      "\u001b[1;31m---------------------------------------------------------------------------\u001b[0m",
      "\u001b[1;31mModuleNotFoundError\u001b[0m                       Traceback (most recent call last)",
      "\u001b[1;32m<ipython-input-2-b593a06cddd6>\u001b[0m in \u001b[0;36m<module>\u001b[1;34m\u001b[0m\n\u001b[0;32m      3\u001b[0m \u001b[1;32mimport\u001b[0m \u001b[0msys\u001b[0m\u001b[1;33m\u001b[0m\u001b[1;33m\u001b[0m\u001b[0m\n\u001b[0;32m      4\u001b[0m \u001b[1;32mimport\u001b[0m \u001b[0mnumpy\u001b[0m \u001b[1;32mas\u001b[0m \u001b[0mnp\u001b[0m\u001b[1;33m\u001b[0m\u001b[1;33m\u001b[0m\u001b[0m\n\u001b[1;32m----> 5\u001b[1;33m \u001b[1;32mimport\u001b[0m \u001b[0minsightface\u001b[0m\u001b[1;33m\u001b[0m\u001b[1;33m\u001b[0m\u001b[0m\n\u001b[0m\u001b[0;32m      6\u001b[0m \u001b[1;32mfrom\u001b[0m \u001b[0minsightface\u001b[0m\u001b[1;33m.\u001b[0m\u001b[0mapp\u001b[0m \u001b[1;32mimport\u001b[0m \u001b[0mFaceAnalysis\u001b[0m\u001b[1;33m\u001b[0m\u001b[1;33m\u001b[0m\u001b[0m\n\u001b[0;32m      7\u001b[0m \u001b[1;32mfrom\u001b[0m \u001b[0minsightface\u001b[0m\u001b[1;33m.\u001b[0m\u001b[0mdata\u001b[0m \u001b[1;32mimport\u001b[0m \u001b[0mget_image\u001b[0m \u001b[1;32mas\u001b[0m \u001b[0mins_get_image\u001b[0m\u001b[1;33m\u001b[0m\u001b[1;33m\u001b[0m\u001b[0m\n",
      "\u001b[1;31mModuleNotFoundError\u001b[0m: No module named 'insightface'"
     ]
    }
   ],
   "source": [
    "import argparse\n",
    "import cv2\n",
    "import sys\n",
    "import numpy as np\n",
    "import insightface\n",
    "from insightface.app import FaceAnalysis\n",
    "from insightface.data import get_image as ins_get_image\n",
    "\n",
    "assert insightface.__version__>='0.3'\n",
    "\n",
    "parser = argparse.ArgumentParser(description='insightface app test')\n",
    "# general\n",
    "parser.add_argument('--ctx', default=0, type=int, help='ctx id, <0 means using cpu')\n",
    "parser.add_argument('--det-size', default=640, type=int, help='detection size')\n",
    "args = parser.parse_args()\n",
    "\n",
    "app = FaceAnalysis()\n",
    "app.prepare(ctx_id=args.ctx, det_size=(args.det_size,args.det_size))\n",
    "\n",
    "img = ins_get_image('t1')\n",
    "faces = app.get(img)\n",
    "assert len(faces)==6\n",
    "rimg = app.draw_on(img, faces)\n",
    "plt.imshow(rimg)\n",
    "cv2.imwrite(\"./t1_output.jpg\", rimg)\n",
    "\n",
    "# then print all-to-all face similarity\n",
    "feats = []\n",
    "for face in faces:\n",
    "    feats.append(face.normed_embedding)\n",
    "feats = np.array(feats, dtype=np.float32)\n",
    "sims = np.dot(feats, feats.T)\n",
    "print(sims)"
   ]
  },
  {
   "cell_type": "code",
   "execution_count": null,
   "id": "d0e7020e-0ef1-4714-b0d3-5b9e3722f6e5",
   "metadata": {},
   "outputs": [],
   "source": []
  }
 ],
 "metadata": {
  "kernelspec": {
   "display_name": "Python 3",
   "language": "python",
   "name": "python3"
  },
  "language_info": {
   "codemirror_mode": {
    "name": "ipython",
    "version": 3
   },
   "file_extension": ".py",
   "mimetype": "text/x-python",
   "name": "python",
   "nbconvert_exporter": "python",
   "pygments_lexer": "ipython3",
   "version": "3.8.8"
  }
 },
 "nbformat": 4,
 "nbformat_minor": 5
}
